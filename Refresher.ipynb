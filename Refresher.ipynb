{
 "cells": [
  {
   "cell_type": "markdown",
   "metadata": {
    "deletable": true,
    "editable": true
   },
   "source": [
    "### Vector\n",
    "- Represents __change__ in location\n",
    "- Magnitude and direction\n",
    "- Written as  \n",
    "    [x  \n",
    "     y  \n",
    "     z]"
   ]
  },
  {
   "cell_type": "code",
   "execution_count": 34,
   "metadata": {
    "collapsed": false,
    "deletable": true,
    "editable": true
   },
   "outputs": [
    {
     "name": "stdout",
     "output_type": "stream",
     "text": [
      "The autoreload extension is already loaded. To reload it, use:\n",
      "  %reload_ext autoreload\n",
      "Vector: (1, 2, 3)\n",
      "True\n",
      "False\n"
     ]
    }
   ],
   "source": [
    "%load_ext autoreload\n",
    "%autoreload 2\n",
    "from vector import *\n",
    "\n",
    "my_vector = Vector([1, 2, 3])\n",
    "print(my_vector)\n",
    "my_vector2 = Vector([1, 2, 3])\n",
    "my_vector3 = Vector([-1, -2, -3])\n",
    "\n",
    "print(my_vector == my_vector2)\n",
    "print(my_vector == my_vector3)"
   ]
  },
  {
   "cell_type": "markdown",
   "metadata": {
    "deletable": true,
    "editable": true
   },
   "source": [
    "### Scalar addition\n",
    "![Addition](images/scalar-addition.png)\n",
    "\n",
    "### Scalar addition\n",
    "![Subtraction](images/scalar-subtraction.png)\n",
    "\n",
    "### Scalar multiplication\n",
    "![Multiplication](images/scalar-multiplication.png)"
   ]
  },
  {
   "cell_type": "markdown",
   "metadata": {
    "deletable": true,
    "editable": true
   },
   "source": [
    "### Impelmenting Vector Operators"
   ]
  },
  {
   "cell_type": "code",
   "execution_count": 35,
   "metadata": {
    "collapsed": false,
    "deletable": true,
    "editable": true
   },
   "outputs": [
    {
     "name": "stdout",
     "output_type": "stream",
     "text": [
      "Vector: (8.218, -9.341) + Vector: (-1.129, 2.111) = Vector: (7.089, -7.229999999999999)\n"
     ]
    }
   ],
   "source": [
    "vector_1 = Vector([8.218, -9.341])\n",
    "vector_2 = Vector([-1.129, 2.111])\n",
    "\n",
    "print(\"{} + {} = {}\".format(vector_1, vector_2, vector_1 + vector_2))"
   ]
  },
  {
   "cell_type": "code",
   "execution_count": 36,
   "metadata": {
    "collapsed": false,
    "deletable": true,
    "editable": true
   },
   "outputs": [
    {
     "name": "stdout",
     "output_type": "stream",
     "text": [
      "Vector: (7.119, 8.215) - Vector: (-8.223, 0.878) = Vector: (15.342, 7.337)\n"
     ]
    }
   ],
   "source": [
    "vector_3 = Vector([7.119, 8.215])\n",
    "vector_4 = Vector([-8.223, 0.878])\n",
    "\n",
    "print(\"{} - {} = {}\".format(vector_3, vector_4, vector_3 - vector_4))"
   ]
  },
  {
   "cell_type": "code",
   "execution_count": 37,
   "metadata": {
    "collapsed": false,
    "deletable": true,
    "editable": true
   },
   "outputs": [
    {
     "name": "stdout",
     "output_type": "stream",
     "text": [
      "Vector: (7.41,) * Vector: (1.671, -1.012, -0.318) = Vector: (12.38211, -7.49892, -2.35638)\n"
     ]
    }
   ],
   "source": [
    "vector_5 = Vector([7.41])\n",
    "vector_6 = Vector([1.671, -1.012, -0.318])\n",
    "\n",
    "print(\"{} * {} = {}\".format(vector_5, vector_6, vector_5 * vector_6))"
   ]
  },
  {
   "cell_type": "markdown",
   "metadata": {
    "deletable": true,
    "editable": true
   },
   "source": [
    "### Magnitude and Direction\n",
    "\n",
    "**Magnitude**: How much movement it quantifies. We can calculate this by finding out the length of the arrow using the pythagorean formula\n",
    "\n",
    "![Multiplication](images/magnitude-calculation.png)\n",
    "\n",
    "**Direction**: Where the director's movement is pointed. This is calculated first *normalize* (scaling it up or down) the vector. \n",
    "\n",
    "To do this we find the magnitude (length). Then multiply the vector by 1 / magnitude.\n",
    "\n",
    "![Direction](images/direction-calculation.png)\n",
    "\n",
    "**NOTE**: Vector of zero will break things!"
   ]
  },
  {
   "cell_type": "markdown",
   "metadata": {
    "deletable": true,
    "editable": true
   },
   "source": [
    "### Magnitude & Direction Operators"
   ]
  },
  {
   "cell_type": "code",
   "execution_count": 41,
   "metadata": {
    "collapsed": false,
    "deletable": true,
    "editable": true
   },
   "outputs": [
    {
     "name": "stdout",
     "output_type": "stream",
     "text": [
      "Magnitude of Vector: (-0.221, 7.437) = 7.440282924728065\n",
      "Magnitude of Vector: (8.813, -1.331, -6.247) = 10.884187567292289\n"
     ]
    }
   ],
   "source": [
    "vector_7 = Vector([-0.221, 7.437])\n",
    "\n",
    "print('Magnitude of {} = {}'.format(vector_7, vector_7.magnitude()))\n",
    "\n",
    "vector_8 = Vector([8.813, -1.331, -6.247])\n",
    "\n",
    "print('Magnitude of {} = {}'.format(vector_8, vector_8.magnitude()))"
   ]
  },
  {
   "cell_type": "code",
   "execution_count": 43,
   "metadata": {
    "collapsed": false,
    "deletable": true,
    "editable": true
   },
   "outputs": [
    {
     "name": "stdout",
     "output_type": "stream",
     "text": [
      "Direction of Vector: (5.581, -2.136) = Vector: (0.9339352140866403, -0.35744232526233)\n",
      "Direction of Vector: (1.996, 3.108, -4.554) = Vector: (0.3404012959433014, 0.5300437012984873, -0.7766470449528029)\n"
     ]
    }
   ],
   "source": [
    "vector_9 = Vector([5.581, -2.136])\n",
    "\n",
    "print('Direction of {} = {}'.format(vector_9, vector_9.direction()))\n",
    "\n",
    "vector_10 = Vector([1.996, 3.108, -4.554])\n",
    "\n",
    "print('Direction of {} = {}'.format(vector_10, vector_10.direction()))"
   ]
  },
  {
   "cell_type": "code",
   "execution_count": null,
   "metadata": {
    "collapsed": true
   },
   "outputs": [],
   "source": []
  }
 ],
 "metadata": {
  "kernelspec": {
   "display_name": "Python 3",
   "language": "python",
   "name": "python3"
  },
  "language_info": {
   "codemirror_mode": {
    "name": "ipython",
    "version": 3
   },
   "file_extension": ".py",
   "mimetype": "text/x-python",
   "name": "python",
   "nbconvert_exporter": "python",
   "pygments_lexer": "ipython3",
   "version": "3.6.3"
  }
 },
 "nbformat": 4,
 "nbformat_minor": 2
}
