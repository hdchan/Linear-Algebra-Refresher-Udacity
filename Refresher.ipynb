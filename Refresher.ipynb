{
 "cells": [
  {
   "cell_type": "markdown",
   "metadata": {
    "deletable": true,
    "editable": true
   },
   "source": [
    "### Vector\n",
    "- Represents __change__ in location\n",
    "- Magnitude and direction\n",
    "- Written as  \n",
    "    [x  \n",
    "     y  \n",
    "     z]"
   ]
  },
  {
   "cell_type": "code",
   "execution_count": 54,
   "metadata": {
    "collapsed": false,
    "deletable": true,
    "editable": true
   },
   "outputs": [
    {
     "name": "stdout",
     "output_type": "stream",
     "text": [
      "Vector: (1, 2, 3)\n",
      "True\n",
      "False\n"
     ]
    }
   ],
   "source": [
    "from vector import *\n",
    "\n",
    "my_vector = Vector([1, 2, 3])\n",
    "print(my_vector)\n",
    "my_vector2 = Vector([1, 2, 3])\n",
    "my_vector3 = Vector([-1, -2, -3])\n",
    "\n",
    "print(my_vector == my_vector2)\n",
    "print(my_vector == my_vector3)"
   ]
  },
  {
   "cell_type": "markdown",
   "metadata": {
    "deletable": true,
    "editable": true
   },
   "source": [
    "### Scalar addition\n",
    "![Addition](images/scalar-addition.png)\n",
    "\n",
    "### Scalar addition\n",
    "![Subtraction](images/scalar-subtraction.png)\n",
    "\n",
    "### Scalar multiplication\n",
    "![Multiplication](images/scalar-multiplication.png)"
   ]
  },
  {
   "cell_type": "markdown",
   "metadata": {},
   "source": [
    "### Impelmenting Vector Operators"
   ]
  },
  {
   "cell_type": "code",
   "execution_count": 57,
   "metadata": {
    "collapsed": false,
    "deletable": true,
    "editable": true
   },
   "outputs": [
    {
     "name": "stdout",
     "output_type": "stream",
     "text": [
      "Vector: (8.218, -9.341) + Vector: (-1.129, 2.111) = Vector: (7.089, -7.229999999999999)\n"
     ]
    }
   ],
   "source": [
    "vector_1 = Vector([8.218, -9.341])\n",
    "vector_2 = Vector([-1.129, 2.111])\n",
    "\n",
    "print(\"{} + {} = {}\".format(vector_1, vector_2, vector_1 + vector_2))"
   ]
  },
  {
   "cell_type": "code",
   "execution_count": 58,
   "metadata": {
    "collapsed": false
   },
   "outputs": [
    {
     "name": "stdout",
     "output_type": "stream",
     "text": [
      "Vector: (7.119, 8.215) - Vector: (-8.223, 0.878) = Vector: (15.342, 7.337)\n"
     ]
    }
   ],
   "source": [
    "vector_3 = Vector([7.119, 8.215])\n",
    "vector_4 = Vector([-8.223, 0.878])\n",
    "\n",
    "print(\"{} - {} = {}\".format(vector_3, vector_4, vector_3 - vector_4))"
   ]
  },
  {
   "cell_type": "code",
   "execution_count": 59,
   "metadata": {
    "collapsed": false
   },
   "outputs": [
    {
     "name": "stdout",
     "output_type": "stream",
     "text": [
      "Vector: (7.41,) * Vector: (1.671, -1.012, -0.318) = Vector: (12.38211, -7.49892, -2.35638)\n"
     ]
    }
   ],
   "source": [
    "mul_value = Vector([7.41])\n",
    "vector_5 = Vector([1.671, -1.012, -0.318])\n",
    "\n",
    "print(\"{} * {} = {}\".format(mul_value, vector_5, mul_value * vector_5))"
   ]
  },
  {
   "cell_type": "code",
   "execution_count": null,
   "metadata": {
    "collapsed": true
   },
   "outputs": [],
   "source": []
  }
 ],
 "metadata": {
  "kernelspec": {
   "display_name": "Python 3",
   "language": "python",
   "name": "python3"
  },
  "language_info": {
   "codemirror_mode": {
    "name": "ipython",
    "version": 3
   },
   "file_extension": ".py",
   "mimetype": "text/x-python",
   "name": "python",
   "nbconvert_exporter": "python",
   "pygments_lexer": "ipython3",
   "version": "3.6.3"
  }
 },
 "nbformat": 4,
 "nbformat_minor": 2
}
